{
 "cells": [
  {
   "cell_type": "code",
   "execution_count": null,
   "metadata": {},
   "outputs": [],
   "source": [
    "import matplotlib.pyplot as plt\n",
    "import pandas as pd\n",
    "from math import sqrt\n",
    "from scipy.stats import kstest, chisquare"
   ]
  },
  {
   "cell_type": "code",
   "execution_count": null,
   "metadata": {},
   "outputs": [],
   "source": [
    "with open(\"csvs/Бабенко_Егор_Степанович.csv\", \"r\") as csv:\n",
    "    csvData = sorted(list(map(float, csv.readlines()[1:])))\n",
    "N = len(csvData)\n",
    "print(*csvData)"
   ]
  },
  {
   "attachments": {},
   "cell_type": "markdown",
   "metadata": {},
   "source": [
    "### Критерий Колмагорова\n",
    "![image](https://studfile.net/html/2706/242/html_ovh47R4j6U.paDd/htmlconvd-QasmDu_html_b6262d446b8b4187.gif \"Колмагоров\")![image](https://studfile.net/html/2706/242/html_ovh47R4j6U.paDd/htmlconvd-QasmDu_html_8cb7542502d3b4d3.gif \"Колмагоров\")\n",
    "\n",
    "![image](https://www.matematicus.ru/wp-content/uploads/2019/11/Kriterij-Kolmogorova-formula.png \"Критерий Колмагорова\")"
   ]
  },
  {
   "cell_type": "code",
   "execution_count": null,
   "metadata": {},
   "outputs": [],
   "source": [
    "sup = -1\n",
    "sups = []\n",
    "for ind, val in enumerate(csvData):\n",
    "    sup = max( abs(ind/N - val), abs(ind/N+0.01 - val), sup)\n",
    "    sups.append(sup)\n",
    "print(f\"Критерий Колмагорова: {round(sup*sqrt(N), 1)}\")\n",
    "pd.DataFrame(csvData, columns=['']).plot()\n",
    "pd.Series([x/100 for x in range(len(csvData))]).plot()"
   ]
  },
  {
   "attachments": {},
   "cell_type": "markdown",
   "metadata": {},
   "source": [
    "![image](https://sun9-19.userapi.com/impf/1Ri0svWmF4xIHBaLnaoLwnnMc9C7j18QIcIeNQ/GGPLGQfqcFs.jpg?size=583x198&quality=96&sign=e3110566a59289994b8e15e9d58ccc43&type=album \"Хи квадрат\")"
   ]
  },
  {
   "cell_type": "code",
   "execution_count": null,
   "metadata": {},
   "outputs": [],
   "source": [
    "xi = 0\n",
    "xis = []\n",
    "for ind, val in enumerate(csvData):\n",
    "    ind+=1\n",
    "    xi += (val - ind/N)**2 / (ind/N)\n",
    "    xis.append(xi)\n",
    "pd.DataFrame(xis, columns=['Xi']).plot()\n",
    "print(f\"x2: {xi}\")"
   ]
  },
  {
   "cell_type": "code",
   "execution_count": null,
   "metadata": {},
   "outputs": [],
   "source": [
    "significance_level = 0.05 #Уровень значимости\n",
    "\n",
    "_, pvalue = kstest(csvData, [x/100 for x in range(N)])\n",
    "pvalue = round(pvalue,5)\n",
    "print(f\"Высчитанное P-значение: {pvalue}\")\n",
    "if pvalue < significance_level:\n",
    "    print(f\"[{pvalue} < {significance_level}]: P-значение меньше\")\n",
    "else:\n",
    "    print(f\"[{pvalue} > {significance_level}]: P-значение больше\")"
   ]
  }
 ],
 "metadata": {
  "kernelspec": {
   "display_name": "venv",
   "language": "python",
   "name": "python3"
  },
  "language_info": {
   "codemirror_mode": {
    "name": "ipython",
    "version": 3
   },
   "file_extension": ".py",
   "mimetype": "text/x-python",
   "name": "python",
   "nbconvert_exporter": "python",
   "pygments_lexer": "ipython3",
   "version": "3.10.2"
  },
  "orig_nbformat": 4,
  "vscode": {
   "interpreter": {
    "hash": "6633cb06df30451d2045c4ee874d8b1ba961c67eee502807c861e50b3924e805"
   }
  }
 },
 "nbformat": 4,
 "nbformat_minor": 2
}
