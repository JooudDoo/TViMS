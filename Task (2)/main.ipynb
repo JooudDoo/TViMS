{
 "cells": [
  {
   "cell_type": "markdown",
   "metadata": {},
   "source": [
    "1. Биноминальное распределение \n",
    "    * *(N)* - кол-во и *(P)* вероятность успеха\n",
    "2. Лямбда (Экспоненциальное)\n",
    "    * *(lambda)* - Константа\n",
    "1. Геометрическое\n",
    "    * *(P)* - Вероятность успеха\n",
    "1. Гипер-геометрическое\n",
    "    * *(N)* - Всего деталей; *(M)* - Всего деффектный деталей; *(n)* - отобранных деталей;\n",
    "1. Равномерное \n",
    "    * *(A)* - левая граница; *(B)* - правая граница\n",
    "1. Нормальное Гауса\n",
    "    * *(alpha)* **??**; *(sigma)* **??**;\n",
    "1. Коши\n",
    "    * Пустота, холодна\n",
    "1. Гамма распределение\n",
    "    * *(alpha)* **??**; *(lambda)* **??**;"
   ]
  },
  {
   "cell_type": "code",
   "execution_count": null,
   "metadata": {},
   "outputs": [],
   "source": [
    "import pandas as pd\n",
    "import numpy as np"
   ]
  },
  {
   "cell_type": "code",
   "execution_count": null,
   "metadata": {},
   "outputs": [],
   "source": [
    "from math import factorial\n",
    "def Cnk(k, n):\n",
    "    return factorial(n) / (factorial(n-k) * factorial(k))"
   ]
  },
  {
   "cell_type": "code",
   "execution_count": null,
   "metadata": {},
   "outputs": [],
   "source": [
    "from math import exp, sqrt, pi\n",
    "def binominal(returnProbs = False, inputString = \"\"):\n",
    "    if inputString != \"\":\n",
    "        N, P = inputString.split()\n",
    "    else:\n",
    "        N, P = input(\"Введите N, P через пробел\").split()\n",
    "    N, P = int(N), float(P)\n",
    "    if P < 0 and P <= 1: raise ValueError(\"P not correct\")\n",
    "    Q = 1 - P;\n",
    "    probs = []\n",
    "    for k in range(N+1):\n",
    "        probs.append(Cnk(k, N) * P**k * Q**(N-k))\n",
    "    if returnProbs: return (probs, range(N+1))\n",
    "    return pd.DataFrame(probs, columns=['P']).plot(kind='bar')\n",
    "\n",
    "def exponental(returnProbs = False, inputString = \"\"):\n",
    "    if inputString != \"\":\n",
    "        N, lam = inputString.split()\n",
    "    else:\n",
    "        N, lam = input(\"Введите N, lam через пробел\").split()\n",
    "    N, lam = int(N), float(lam)\n",
    "    if lam < 0 and lam <= 1: raise ValueError(\"Lambda not correct\")\n",
    "    probs = []\n",
    "    for k in range(N+1):\n",
    "        probs.append(lam * exp(-lam*k))\n",
    "    if returnProbs: return (probs, range(N+1))\n",
    "    return pd.DataFrame(probs, columns=['P']).plot(kind='bar')\n",
    "\n",
    "def geometric(returnProbs = False, inputString = \"\"):\n",
    "    if inputString != \"\":\n",
    "        N, P = inputString.split()\n",
    "    else:\n",
    "        N, P = input(\"Введите N, P через пробел\").split()\n",
    "    N, P = int(N), float(P)\n",
    "    Q = 1 - P;\n",
    "    if P < 0 and P <= 1: raise ValueError(\"P not correct\")\n",
    "    probs = []\n",
    "    for k in range(1, N+1):\n",
    "        probs.append(P*Q**(k-1))\n",
    "    if returnProbs: return (probs, range(1, N+1))\n",
    "    return pd.DataFrame(probs, columns=['P']).plot(kind='bar')\n",
    "\n",
    "def giperGeometric(returnProbs = False, inputString = \"\"):\n",
    "    if inputString != \"\":\n",
    "        N, M, n = inputString.split()\n",
    "    else:\n",
    "        N, M, n = input(\"Введите N, M, n через пробел\").split()\n",
    "    N, M, n = int(N), int(M), int(n)\n",
    "    if M > N: raise ValueError(\"M not correct\")\n",
    "    probs = []\n",
    "    for m in range(min(M,n)+1):\n",
    "        probs.append((Cnk(m, M) * Cnk(n-m, N-M))/Cnk(n,N))\n",
    "    if returnProbs: return (probs, range(min(M,n)+1))\n",
    "    return pd.DataFrame(probs, columns=['P']).plot(kind='bar')\n",
    "\n",
    "def ravnomernoe(returnProbs = False, inputString = \"\"):\n",
    "    if inputString != \"\":\n",
    "        N, A, B = inputString.split()\n",
    "    else:\n",
    "        N, A, B = input(\"Введите N, A, B через пробел\").split()\n",
    "    N, A, B = int(N), int(A), int(B)\n",
    "    if B <= A: raise ValueError(\"B is bigger than A\")\n",
    "    probs = [1/(B-A) for x in range(int(A),int(B)+1)]\n",
    "    if returnProbs: return (probs, range(int(A),int(B)+1))\n",
    "    return pd.Series(np.array(probs),  index=range(A,B)).plot(kind='bar')\n",
    "\n",
    "def gause(returnProbs = False, inputString = \"\"):\n",
    "    if inputString != \"\":\n",
    "        N, alpha, sigma = inputString.split()\n",
    "    else:\n",
    "        N, alpha, sigma = input(\"Введите N, alpha, sigma через пробел\").split()\n",
    "    N, alpha, sigma = int(N), float(alpha), float(sigma)\n",
    "    probs = []\n",
    "    for k in range(-N*10, N*10+1):\n",
    "        probs.append(exp(-((k-alpha)**2)/(2*sigma**2))/(sigma*sqrt(2*pi)))\n",
    "    if returnProbs: return (probs, [x/10 for x in range(-N*10, N*10+1)])\n",
    "    return pd.Series(np.array(probs),  index=[x/10 for x in range(-N*10, N*10+1)]).plot(kind='bar')\n",
    "\n",
    "def gamma(returnProbs = False, inputString = \"\"):\n",
    "    if inputString != \"\":\n",
    "        N, alpha, lam = inputString.split()\n",
    "    else:\n",
    "        N, alpha, lam = input(\"Введите N, alpha, lam через пробел\").split()\n",
    "    N, alpha, lam = int(N), int(alpha), float(lam)\n",
    "    if alpha <= 0 or lam <= 0: raise ValueError(\"alpha or lam below zero\")\n",
    "    probs = []\n",
    "    for k in range(1, N+1):\n",
    "        probs.append(\n",
    "            (lam**alpha * k**(alpha-1) * exp(-lam*k)) / factorial(alpha-1)\n",
    "            )\n",
    "    if returnProbs: return (probs, range(1, N+1))\n",
    "    return pd.Series(np.array(probs)).plot(kind='bar')\n",
    "\n",
    "def koshi(returnProbs = False, inputString = \"\"):\n",
    "    if inputString != \"\":\n",
    "        N = int(inputString)\n",
    "    else:\n",
    "        N = int(input(\"Введите N\"))\n",
    "    probs = []\n",
    "    for k in range(-N, N+1):\n",
    "        probs.append(\n",
    "            1/(pi*(1+k**2))\n",
    "        )\n",
    "    if returnProbs: return (probs, list(range(-N, N+1)))\n",
    "    return pd.Series(np.array(probs), index=range(-N, N+1)).plot(kind='bar')"
   ]
  },
  {
   "cell_type": "code",
   "execution_count": 317,
   "metadata": {},
   "outputs": [],
   "source": [
    "def checkMathEx(N, raspred):\n",
    "    arr = []\n",
    "    inputString = input(\"Введите только параметры (Без N)\")\n",
    "    for x in range(1, N+1):\n",
    "        probs, inds = raspred(inputString = str(x) + \" \" + inputString, returnProbs = True)\n",
    "        arr.append(sum(probs)/len(probs))\n",
    "    return pd.Series(arr).plot()\n",
    "\n",
    "def MathEx(raspred, params, quant = 1):\n",
    "    probs, inds = raspred(inputString = params, returnProbs = True)\n",
    "    ex = 0\n",
    "    for i in range(len(probs)):\n",
    "        ex += probs[i] * inds[i]**quant\n",
    "    return ex\n",
    "\n",
    "def Disp(raspred, params):\n",
    "    return MathEx(raspred, params, quant=2) - MathEx(raspred, params, quant=1)**2\n",
    "    \n",
    "def checkCPT(N, raspred, inputStr = \"\"):\n",
    "    arr = []\n",
    "    if inputStr == \"\":\n",
    "        inputString = input(\"Введите только параметры (Без N)\")\n",
    "    else:\n",
    "        inputString = inputStr\n",
    "    Ex = MathEx(raspred, str(1) + \" \" + inputString)\n",
    "    Ds = Disp(raspred, str(1) + \" \" + inputString)\n",
    "    for x in range(1, N+1):\n",
    "        params =  str(x) + \" \" + inputString\n",
    "        probs, inds = raspred(inputString = params, returnProbs = True)\n",
    "        arr.append((sum(probs) - x * Ex ) / sqrt(x * Ds))\n",
    "    return pd.Series(arr).plot()"
   ]
  },
  {
   "cell_type": "code",
   "execution_count": 318,
   "metadata": {},
   "outputs": [
    {
     "data": {
      "text/plain": [
       "<AxesSubplot: >"
      ]
     },
     "execution_count": 318,
     "metadata": {},
     "output_type": "execute_result"
    },
    {
     "data": {
      "image/png": "[encoded data removed]",
      "text/plain": [
       "<Figure size 640x480 with 1 Axes>"
      ]
     },
     "metadata": {},
     "output_type": "display_data"
    }
   ],
   "source": [
    "checkCPT(100, binominal, \"0.5\")"
   ]
  }
 ],
 "metadata": {
  "kernelspec": {
   "display_name": "Python 3.10.2 ('venv': venv)",
   "language": "python",
   "name": "python3"
  },
  "language_info": {
   "codemirror_mode": {
    "name": "ipython",
    "version": 3
   },
   "file_extension": ".py",
   "mimetype": "text/x-python",
   "name": "python",
   "nbconvert_exporter": "python",
   "pygments_lexer": "ipython3",
   "version": "3.10.2"
  },
  "orig_nbformat": 4,
  "vscode": {
   "interpreter": {
    "hash": "6633cb06df30451d2045c4ee874d8b1ba961c67eee502807c861e50b3924e805"
   }
  }
 },
 "nbformat": 4,
 "nbformat_minor": 2
}
